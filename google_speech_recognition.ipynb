{
 "cells": [
  {
   "cell_type": "code",
   "execution_count": 5,
   "id": "56d34690",
   "metadata": {},
   "outputs": [],
   "source": [
    "#Speech Recognition using google text-speech API"
   ]
  },
  {
   "cell_type": "markdown",
   "id": "54cf6f5e",
   "metadata": {},
   "source": [
    "Speech synthesis (or Text to Speech) is the computer-generated simulation of human speech. It converts human language text into human-like speech audio. In this tutorial, you will learn how you can convert text to speech in Python.\n",
    "\n",
    "In this tutorial, we won't be building neural networks and train the model in order to achieve results, as it is pretty complex and hard to do it. Instead, we gonna use some APIs and engines that offer it. There are a lot of APIs out there that offers this service, one of the commonly used services is Google Text to Speech, in this tutorial, we will play around with it along with another offline library: pyttsx3.\n",
    "\n",
    "To make things clear, this tutorial is about converting text to speech and not the other way around, if you want to convert speech to text instead, check this tutorial.\n",
    "\n",
    "Table of contents:\n",
    "\n",
    "Online Text to Speech\n",
    "To get started, let's install required modules:\n",
    "\n",
    "\n",
    "pip3 install gTTS pyttsx3 playsound"
   ]
  },
  {
   "cell_type": "code",
   "execution_count": 6,
   "id": "f1eb2a31",
   "metadata": {},
   "outputs": [],
   "source": [
    "#pip3 install gTTS pyttsx3 playsound"
   ]
  },
  {
   "cell_type": "markdown",
   "id": "9490988d",
   "metadata": {},
   "source": [
    "Online Text to Speech\n",
    "As you may guess, gTTS stands for Google Text To Speech, it is a Python library to interface with Google Translate's text to speech API. It requires Internet connection and it's pretty easy to use.\n",
    "\n",
    "Open up a new Python file and import:"
   ]
  },
  {
   "cell_type": "code",
   "execution_count": 7,
   "id": "8dfb25ea",
   "metadata": {},
   "outputs": [],
   "source": [
    "import gtts\n",
    "from playsound import playsound"
   ]
  },
  {
   "cell_type": "markdown",
   "id": "60a4c078",
   "metadata": {},
   "source": [
    "It's pretty straightforward to use this library, you just need to pass text to gTTS object that is an interface to Google Translate's Text to Speech API:"
   ]
  },
  {
   "cell_type": "code",
   "execution_count": 9,
   "id": "01db46ff",
   "metadata": {},
   "outputs": [
    {
     "name": "stdout",
     "output_type": "stream",
     "text": [
      "Recognizing...\n",
      "hello hello hello hello hello hello hello hello hello\n"
     ]
    }
   ],
   "source": [
    "import os\n",
    "import speech_recognition as sr\n",
    "# initialize the recognizer\n",
    "r = sr.Recognizer()\n",
    "with sr.Microphone() as source:\n",
    "    # read the audio data from the default microphone\n",
    "    audio_data = r.record(source, duration=25)\n",
    "    print(\"Recognizing...\")\n",
    "    # convert speech to text\n",
    "    text = r.recognize_google(audio_data)\n",
    "    print(text)\n",
    "\n",
    "# make request to google to get synthesis\n",
    "tts = gtts.gTTS(text)\n"
   ]
  },
  {
   "cell_type": "code",
   "execution_count": null,
   "id": "e016f85d",
   "metadata": {},
   "outputs": [],
   "source": []
  }
 ],
 "metadata": {
  "kernelspec": {
   "display_name": "Python 3",
   "language": "python",
   "name": "python3"
  },
  "language_info": {
   "codemirror_mode": {
    "name": "ipython",
    "version": 3
   },
   "file_extension": ".py",
   "mimetype": "text/x-python",
   "name": "python",
   "nbconvert_exporter": "python",
   "pygments_lexer": "ipython3",
   "version": "3.8.10"
  }
 },
 "nbformat": 4,
 "nbformat_minor": 5
}
