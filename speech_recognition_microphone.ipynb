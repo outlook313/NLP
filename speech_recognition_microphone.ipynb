{
 "cells": [
  {
   "cell_type": "code",
   "execution_count": 1,
   "id": "fe2b7ed0",
   "metadata": {},
   "outputs": [],
   "source": [
    "##This requires PyAudio to be installed in your machine,\n",
    "##here is the installation process depending on your operating system:\n",
    "#window\n",
    "#You can just pip install it:\n",
    "#pip3 install pyaudio\n"
   ]
  },
  {
   "cell_type": "markdown",
   "id": "46c3e6ec",
   "metadata": {},
   "source": [
    "Try this (in admin mode command prompt):\n",
    "\n",
    "pip install pipwin\n",
    "pipwin install pyaudio\n",
    "pipwin is like pip, but it installs precompiled Windows binaries provided by Christoph Gohlke. Saves you a lot of googling and manual downloading."
   ]
  },
  {
   "cell_type": "code",
   "execution_count": 2,
   "id": "555fdb7e",
   "metadata": {},
   "outputs": [
    {
     "name": "stdout",
     "output_type": "stream",
     "text": [
      "Recognizing...\n",
      "hello hello hello hello hello hello hello\n"
     ]
    }
   ],
   "source": [
    "import speech_recognition as sr\n",
    "# initialize the recognizer\n",
    "r = sr.Recognizer()\n",
    "with sr.Microphone() as source:\n",
    "    # read the audio data from the default microphone\n",
    "    audio_data = r.record(source, duration=50)\n",
    "    print(\"Recognizing...\")\n",
    "    # convert speech to text\n",
    "    text = r.recognize_google(audio_data)\n",
    "    print(text)"
   ]
  },
  {
   "cell_type": "code",
   "execution_count": null,
   "id": "397d9359",
   "metadata": {},
   "outputs": [],
   "source": []
  }
 ],
 "metadata": {
  "kernelspec": {
   "display_name": "Python 3",
   "language": "python",
   "name": "python3"
  },
  "language_info": {
   "codemirror_mode": {
    "name": "ipython",
    "version": 3
   },
   "file_extension": ".py",
   "mimetype": "text/x-python",
   "name": "python",
   "nbconvert_exporter": "python",
   "pygments_lexer": "ipython3",
   "version": "3.8.10"
  }
 },
 "nbformat": 4,
 "nbformat_minor": 5
}
