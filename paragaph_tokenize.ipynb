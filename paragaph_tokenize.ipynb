{
 "cells": [
  {
   "cell_type": "markdown",
   "id": "3b0b7290",
   "metadata": {},
   "source": [
    "<b><font color=\"blue\">How to covert a paragarph into set of sentences using nltk library</font><br>\n",
    "<b><font color=\"green\">steps:</font><br>\n",
    "    *<font color=\"gray\">import ntlk library</font><br>\n",
    "    *<font color=\"gray\">take a input paragraph</font><br>\n",
    "    *<font color=\"gray\">tokenize it</font>\n"
   ]
  },
  {
   "cell_type": "code",
   "execution_count": 3,
   "id": "a8e1ed1f",
   "metadata": {},
   "outputs": [
    {
     "name": "stdout",
     "output_type": "stream",
     "text": [
      "showing info https://raw.githubusercontent.com/nltk/nltk_data/gh-pages/index.xml\n"
     ]
    },
    {
     "data": {
      "text/plain": [
       "True"
      ]
     },
     "execution_count": 3,
     "metadata": {},
     "output_type": "execute_result"
    }
   ],
   "source": [
    "import nltk\n",
    "nltk.download()"
   ]
  },
  {
   "cell_type": "code",
   "execution_count": 4,
   "id": "fb9f5769",
   "metadata": {},
   "outputs": [
    {
     "data": {
      "text/plain": [
       "['Today is a great day.',\n",
       " 'It is even better than yesterday.',\n",
       " 'And yesterday was the best day ever.']"
      ]
     },
     "execution_count": 4,
     "metadata": {},
     "output_type": "execute_result"
    }
   ],
   "source": [
    "text=\"Today is a great day. It is even better than yesterday. And yesterday was the best day ever.\"\n",
    "from nltk.tokenize import sent_tokenize\n",
    "sent_tokenize(text)"
   ]
  }
 ],
 "metadata": {
  "kernelspec": {
   "display_name": "Python 3",
   "language": "python",
   "name": "python3"
  },
  "language_info": {
   "codemirror_mode": {
    "name": "ipython",
    "version": 3
   },
   "file_extension": ".py",
   "mimetype": "text/x-python",
   "name": "python",
   "nbconvert_exporter": "python",
   "pygments_lexer": "ipython3",
   "version": "3.8.8"
  }
 },
 "nbformat": 4,
 "nbformat_minor": 5
}
